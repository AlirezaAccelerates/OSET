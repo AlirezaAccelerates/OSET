{
 "cells": [
  {
   "cell_type": "code",
   "execution_count": 1,
   "id": "aee71dfa-52fa-4be7-9492-f5fb00b5a43b",
   "metadata": {
    "tags": []
   },
   "outputs": [
    {
     "name": "stdout",
     "output_type": "stream",
     "text": [
      "Done!\n"
     ]
    }
   ],
   "source": [
    "import os\n",
    "import json\n",
    "import numpy as np\n",
    "import matplotlib.pyplot as plt\n",
    "from scipy.signal import iirnotch, lfilter\n",
    "from notch_filter_cls import notch_filter_cls  # Assuming notch_filter_cls function is in notch_filter_cls.py\n",
    "\n",
    "Qfactor = 45.0 # standard IIR notch filter's Q-factor\n",
    "lambda_ = 25000.0 # notch_filter_cls's regularization factor (the higher, the sharper the notch frequency is)\n",
    "bias = 0  # offsets between plots; adjust as needed\n",
    "\n",
    "# File paths\n",
    "rawdatafilepath = '/Users/rsameni/Documents/GitHub/zero-transition-notch-filter/sample-data/LAMainsNoiseExamples' #'../sample-data/LAMainsNoiseExamples/'\n",
    "outputdatafilepath = './results/'\n",
    "\n",
    "# Process all data files\n",
    "all_fnames = [f for f in os.listdir(rawdatafilepath) if f.endswith('.json')]\n",
    "\n",
    "for fname in all_fnames:\n",
    "    filepath = os.path.join(rawdatafilepath, fname)\n",
    "    with open(filepath, 'r') as fid:\n",
    "        data = json.load(fid)\n",
    "\n",
    "    fmains = data['mainsFreq']\n",
    "    fs = data['rawEcg']['samplesPerSecond']\n",
    "    fs_alivecor_filt = data['enhEcg']['samplesPerSecond']\n",
    "\n",
    "    for ch, x_raw in data['rawEcg']['ecgSamples'].items():\n",
    "        x_raw = np.array(x_raw) - np.mean(x_raw)\n",
    "        x_alivecor_filt = np.array(data['enhEcg']['ecgSamples'][ch])\n",
    "\n",
    "        # Truncate signals\n",
    "        x_raw = x_raw[:-3]\n",
    "        x_alivecor_filt = x_alivecor_filt[:-3]\n",
    "\n",
    "        # Check if x_raw is 1D or 2D and process accordingly\n",
    "        x_raw_reshaped = x_raw.reshape(1, -1) if x_raw.ndim == 1 else x_raw\n",
    "\n",
    "        # Custom notch filter\n",
    "        x_cls_reshaped = notch_filter_cls(x_raw_reshaped, fmains/fs, lambda_)\n",
    "        x_cls = x_cls_reshaped.ravel() if x_raw.ndim == 1 else x_cls_reshaped\n",
    "\n",
    "        # Standard IIR notch filter\n",
    "        b, a = iirnotch(fmains, Qfactor, fs)\n",
    "        x_iir = lfilter(b, a, x_raw)\n",
    "\n",
    "        # Plotting\n",
    "        t_raw = np.arange(len(x_raw)) / fs\n",
    "        t_alivecor_filt = np.arange(len(x_alivecor_filt)) / fs_alivecor_filt\n",
    "        plt.figure(figsize=(18, 6))\n",
    "        plt.plot(t_raw, x_raw, label='Raw ECG')\n",
    "        plt.plot(t_raw, x_iir - 3*bias, label='IIR Filtered ECG')\n",
    "        plt.plot(t_raw, x_cls - 2*bias, label='Custom Filtered ECG')\n",
    "        plt.plot(t_alivecor_filt, x_alivecor_filt - np.mean(x_alivecor_filt) - bias, label='AliveCor Filtered ECG')\n",
    "        plt.grid()\n",
    "        plt.legend()\n",
    "        plt.xlabel('Time (seconds)', fontsize=14)\n",
    "        plt.ylabel('Amplitude (uV)', fontsize=14)\n",
    "        plt.title(f\"{fname}, Channel: {ch}\", fontsize=14)\n",
    "        plt.xticks(fontsize=12)\n",
    "        plt.yticks(fontsize=12)\n",
    "        plt.savefig(os.path.join(outputdatafilepath, f\"{fname[:-5]}_{ch}_filtered.png\"))\n",
    "        plt.close()\n",
    "\n",
    "print('Done!')\n"
   ]
  },
  {
   "cell_type": "code",
   "execution_count": null,
   "id": "fec90846-bfc8-42ce-bd98-def8b21352f0",
   "metadata": {},
   "outputs": [],
   "source": []
  }
 ],
 "metadata": {
  "kernelspec": {
   "display_name": "Python 3 (ipykernel)",
   "language": "python",
   "name": "python3"
  },
  "language_info": {
   "codemirror_mode": {
    "name": "ipython",
    "version": 3
   },
   "file_extension": ".py",
   "mimetype": "text/x-python",
   "name": "python",
   "nbconvert_exporter": "python",
   "pygments_lexer": "ipython3",
   "version": "3.10.13"
  }
 },
 "nbformat": 4,
 "nbformat_minor": 5
}
